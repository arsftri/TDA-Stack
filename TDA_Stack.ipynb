{
 "cells": [
  {
   "cell_type": "code",
   "execution_count": 14,
   "id": "6c045adb",
   "metadata": {},
   "outputs": [],
   "source": [
    "class Stack :\n",
    "    \n",
    "    # Creates an empty stack. \n",
    "    def __init__( self ):\n",
    "        self._theItems = list()\n",
    "        \n",
    "    # Returns True if the stack is empty or False otherwise.\n",
    "    def isEmpty( self ):\n",
    "        return len( self ) == 0 \n",
    "    \n",
    "    # Returns the number of items in the stack. \n",
    "    def __len__ ( self ):\n",
    "        return len( self._theItems )\n",
    "    \n",
    "     #Returns the top item on the stack without removing it.\n",
    "    def peek( self ): \n",
    "        assert not self.isEmpty(), \"Cannot peek at an empty stack\" \n",
    "        return self._theItems[-1] #-1 untuk item yang terakhir\n",
    "\n",
    "    # Removes and returns the top item on the stack.\n",
    "    def pop( self ):\n",
    "        assert not self.isEmpty(), \"Cannot pop from an empty stack\"\n",
    "        return self._theItems.pop() \n",
    "    \n",
    "    # Push an item onto the top of the stack.\n",
    "    def push( self, item ):\n",
    "        self._theItems.append( item )"
   ]
  },
  {
   "cell_type": "code",
   "execution_count": 15,
   "id": "2f4dec9a",
   "metadata": {},
   "outputs": [],
   "source": [
    "s= Stack()"
   ]
  },
  {
   "cell_type": "code",
   "execution_count": 18,
   "id": "2ca21cad",
   "metadata": {},
   "outputs": [],
   "source": [
    "#memasukan nilai\n",
    "s.push(3)\n",
    "s.push(5)"
   ]
  },
  {
   "cell_type": "code",
   "execution_count": 19,
   "id": "e768ca2c",
   "metadata": {},
   "outputs": [
    {
     "data": {
      "text/plain": [
       "2"
      ]
     },
     "execution_count": 19,
     "metadata": {},
     "output_type": "execute_result"
    }
   ],
   "source": [
    "len(s)"
   ]
  },
  {
   "cell_type": "code",
   "execution_count": 20,
   "id": "630e03b1",
   "metadata": {},
   "outputs": [
    {
     "data": {
      "text/plain": [
       "False"
      ]
     },
     "execution_count": 20,
     "metadata": {},
     "output_type": "execute_result"
    }
   ],
   "source": [
    "s.isEmpty()"
   ]
  },
  {
   "cell_type": "code",
   "execution_count": 21,
   "id": "61ba12f9",
   "metadata": {},
   "outputs": [
    {
     "data": {
      "text/plain": [
       "5"
      ]
     },
     "execution_count": 21,
     "metadata": {},
     "output_type": "execute_result"
    }
   ],
   "source": [
    "s.peek() #yang terakhir dimasukan yang keluar"
   ]
  },
  {
   "cell_type": "code",
   "execution_count": 22,
   "id": "c1c53f02",
   "metadata": {},
   "outputs": [
    {
     "data": {
      "text/plain": [
       "5"
      ]
     },
     "execution_count": 22,
     "metadata": {},
     "output_type": "execute_result"
    }
   ],
   "source": [
    "s.pop()"
   ]
  },
  {
   "cell_type": "code",
   "execution_count": 23,
   "id": "249eccf0",
   "metadata": {},
   "outputs": [
    {
     "name": "stdout",
     "output_type": "stream",
     "text": [
      "Masukan data nilai positif, negatif untuk stack5\n",
      "Masukan data nilai positif, negatif untuk stack8\n",
      "Masukan data nilai positif, negatif untuk stack9\n",
      "Masukan data nilai positif, negatif untuk stack4\n",
      "Masukan data nilai positif, negatif untuk stack3\n",
      "Masukan data nilai positif, negatif untuk stack6\n",
      "Masukan data nilai positif, negatif untuk stack-1\n",
      "6\n",
      "3\n",
      "4\n",
      "9\n",
      "8\n",
      "5\n"
     ]
    }
   ],
   "source": [
    "#pengaplikasian stack sederhana\n",
    "PROMPT=\"Masukan data nilai positif, negatif untuk stack\"\n",
    "myStack = Stack()\n",
    "value = int(input(PROMPT))\n",
    "while value >=0: #negatif gabisa karena disini sebagai stack stopnya\n",
    "    myStack.push(value)\n",
    "    value = int(input(PROMPT))\n",
    "    \n",
    "while not myStack.isEmpty():\n",
    "    value = myStack.pop()\n",
    "    print(value) #tidak bisa menampilkan negatif"
   ]
  }
 ],
 "metadata": {
  "kernelspec": {
   "display_name": "Python 3 (ipykernel)",
   "language": "python",
   "name": "python3"
  },
  "language_info": {
   "codemirror_mode": {
    "name": "ipython",
    "version": 3
   },
   "file_extension": ".py",
   "mimetype": "text/x-python",
   "name": "python",
   "nbconvert_exporter": "python",
   "pygments_lexer": "ipython3",
   "version": "3.11.5"
  }
 },
 "nbformat": 4,
 "nbformat_minor": 5
}
